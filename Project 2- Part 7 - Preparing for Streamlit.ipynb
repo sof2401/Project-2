{
 "cells": [
  {
   "cell_type": "code",
   "execution_count": 1,
   "id": "4aed0092-ddf7-4938-b2f4-eb5eb9b6bd2d",
   "metadata": {},
   "outputs": [],
   "source": [
    "import json\n",
    "\n",
    "# Define the filepaths dictionary\n",
    "filepaths = {\"model_1\": \"lstm_model\"}\n",
    "\n",
    "config_path = \"config/filepaths.json\"\n",
    "\n",
    "# Save the filepaths dictionary to a JSON file\n",
    "with open(config_path, \"w\") as json_file:\n",
    "    json.dump(filepaths, json_file)"
   ]
  },
  {
   "cell_type": "code",
   "execution_count": 2,
   "id": "9716584c-5a44-4bc7-b336-21b30484d282",
   "metadata": {},
   "outputs": [
    {
     "ename": "NameError",
     "evalue": "name 'df' is not defined",
     "output_type": "error",
     "traceback": [
      "\u001b[0;31m---------------------------------------------------------------------------\u001b[0m",
      "\u001b[0;31mNameError\u001b[0m                                 Traceback (most recent call last)",
      "Cell \u001b[0;32mIn[2], line 5\u001b[0m\n\u001b[1;32m      2\u001b[0m class_labels \u001b[38;5;241m=\u001b[39m [\u001b[38;5;124m\"\u001b[39m\u001b[38;5;124mClass_A\u001b[39m\u001b[38;5;124m\"\u001b[39m, \u001b[38;5;124m\"\u001b[39m\u001b[38;5;124mClass_B\u001b[39m\u001b[38;5;124m\"\u001b[39m, \u001b[38;5;124m\"\u001b[39m\u001b[38;5;124mClass_C\u001b[39m\u001b[38;5;124m\"\u001b[39m]\n\u001b[1;32m      4\u001b[0m \u001b[38;5;66;03m# Or if your labels are extracted from your data\u001b[39;00m\n\u001b[0;32m----> 5\u001b[0m class_labels \u001b[38;5;241m=\u001b[39m \u001b[43mdf\u001b[49m[\u001b[38;5;124m'\u001b[39m\u001b[38;5;124mtarget_column\u001b[39m\u001b[38;5;124m'\u001b[39m]\u001b[38;5;241m.\u001b[39munique()\u001b[38;5;241m.\u001b[39mtolist()\n",
      "\u001b[0;31mNameError\u001b[0m: name 'df' is not defined"
     ]
    }
   ],
   "source": [
    "class_labels = [\"\"]\n",
    "\n",
    "# Or if your labels are extracted from your data\n",
    "class_labels = df['target_column'].unique().tolist()\n",
    "\n",
    "# Define the class_labels in your code or save them to a file for future use"
   ]
  }
 ],
 "metadata": {
  "kernelspec": {
   "display_name": "Python (dojo-env)",
   "language": "python",
   "name": "dojo-env"
  },
  "language_info": {
   "codemirror_mode": {
    "name": "ipython",
    "version": 3
   },
   "file_extension": ".py",
   "mimetype": "text/x-python",
   "name": "python",
   "nbconvert_exporter": "python",
   "pygments_lexer": "ipython3",
   "version": "3.10.10"
  }
 },
 "nbformat": 4,
 "nbformat_minor": 5
}
