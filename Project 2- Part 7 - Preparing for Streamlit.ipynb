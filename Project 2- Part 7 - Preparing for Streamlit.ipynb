{
 "cells": [
  {
   "cell_type": "code",
   "execution_count": null,
   "id": "4aed0092-ddf7-4938-b2f4-eb5eb9b6bd2d",
   "metadata": {},
   "outputs": [],
   "source": [
    "import json\n",
    "\n",
    "# Define the filepaths dictionary\n",
    "filepaths = {\n",
    "    \"model_1\": \"path_to_model_1.pkl\",\n",
    "    \"model_2\": \"path_to_model_2.pkl\",\n",
    "    # Add more components as needed\n",
    "}\n",
    "\n",
    "# Define the path to save the JSON file\n",
    "config_path = \"config/filepaths.json\"\n",
    "\n",
    "# Save the filepaths dictionary to a JSON file\n",
    "with open(config_path, \"w\") as json_file:\n",
    "    json.dump(filepaths, json_file)"
   ]
  },
  {
   "cell_type": "code",
   "execution_count": null,
   "id": "9716584c-5a44-4bc7-b336-21b30484d282",
   "metadata": {},
   "outputs": [],
   "source": [
    "# Assuming you have a list of class labels\n",
    "class_labels = [\"Class_A\", \"Class_B\", \"Class_C\"]\n",
    "\n",
    "# Or if your labels are extracted from your data\n",
    "class_labels = df['target_column'].unique().tolist()\n",
    "\n",
    "# Define the class_labels in your code or save them to a file for future use"
   ]
  }
 ],
 "metadata": {
  "kernelspec": {
   "display_name": "Python (dojo-env)",
   "language": "python",
   "name": "dojo-env"
  },
  "language_info": {
   "codemirror_mode": {
    "name": "ipython",
    "version": 3
   },
   "file_extension": ".py",
   "mimetype": "text/x-python",
   "name": "python",
   "nbconvert_exporter": "python",
   "pygments_lexer": "ipython3",
   "version": "3.10.10"
  }
 },
 "nbformat": 4,
 "nbformat_minor": 5
}
