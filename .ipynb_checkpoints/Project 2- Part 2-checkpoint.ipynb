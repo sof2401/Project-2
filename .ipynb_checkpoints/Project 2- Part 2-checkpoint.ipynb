{
 "cells": [
  {
   "cell_type": "markdown",
   "id": "6d7dbcd2-587a-4b9a-b8c9-e2a91d6512e5",
   "metadata": {},
   "source": [
    "![png](Data/movies_erd.png)"
   ]
  }
 ],
 "metadata": {
  "kernelspec": {
   "display_name": "Python (dojo-env)",
   "language": "python",
   "name": "dojo-env"
  },
  "language_info": {
   "codemirror_mode": {
    "name": "ipython",
    "version": 3
   },
   "file_extension": ".py",
   "mimetype": "text/x-python",
   "name": "python",
   "nbconvert_exporter": "python",
   "pygments_lexer": "ipython3",
   "version": "3.10.10"
  },
  "widgets": {
   "application/vnd.jupyter.widget-state+json": {
    "state": {},
    "version_major": 2,
    "version_minor": 0
   }
  }
 },
 "nbformat": 4,
 "nbformat_minor": 5
}
