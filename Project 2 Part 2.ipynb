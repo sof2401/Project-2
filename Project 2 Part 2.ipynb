{
 "cells": [
  {
   "cell_type": "markdown",
   "id": "a7ded617-d32c-4a52-9229-0f70a9664b38",
   "metadata": {},
   "source": [
    "![png](Data/movies-ERD.png)"
   ]
  },
  {
   "cell_type": "code",
   "execution_count": null,
   "id": "53de957f-c3de-4d4e-a89c-4c14e7c850f0",
   "metadata": {},
   "outputs": [],
   "source": []
  }
 ],
 "metadata": {
  "kernelspec": {
   "display_name": "Python (dojo-env)",
   "language": "python",
   "name": "dojo-env"
  },
  "language_info": {
   "codemirror_mode": {
    "name": "ipython",
    "version": 3
   },
   "file_extension": ".py",
   "mimetype": "text/x-python",
   "name": "python",
   "nbconvert_exporter": "python",
   "pygments_lexer": "ipython3",
   "version": "3.10.10"
  },
  "widgets": {
   "application/vnd.jupyter.widget-state+json": {
    "state": {},
    "version_major": 2,
    "version_minor": 0
   }
  }
 },
 "nbformat": 4,
 "nbformat_minor": 5
}
