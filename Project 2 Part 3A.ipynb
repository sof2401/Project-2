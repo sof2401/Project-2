{
 "cells": [
  {
   "cell_type": "code",
   "execution_count": 1,
   "id": "55eb7237-826f-40a8-bee1-d40c5fd942fe",
   "metadata": {},
   "outputs": [
    {
     "data": {
      "text/plain": [
       "dict_keys(['client-id', 'api-key'])"
      ]
     },
     "execution_count": 1,
     "metadata": {},
     "output_type": "execute_result"
    }
   ],
   "source": [
    "import numpy as np\n",
    "import pandas as pd\n",
    "import matplotlib.pyplot as plt\n",
    "import seaborn as sns\n",
    "\n",
    "import os, json, math, time\n",
    "from yelpapi import YelpAPI\n",
    "from tqdm.notebook import tqdm_notebook \n",
    "\n",
    "import json\n",
    "with open('/Users/sofiawang/.secret/tmdb_api.json', 'r') as f:\n",
    "    login = json.load(f)\n",
    "login.keys()"
   ]
  },
  {
   "cell_type": "code",
   "execution_count": 2,
   "id": "ca97eb43-1f0f-415b-9442-6a19d326472d",
   "metadata": {},
   "outputs": [
    {
     "name": "stdout",
     "output_type": "stream",
     "text": [
      "Requirement already satisfied: tqdm in /opt/homebrew/Caskroom/miniforge/base/envs/dojo-env/lib/python3.10/site-packages (4.65.0)\n"
     ]
    }
   ],
   "source": [
    "!pip install tqdm"
   ]
  },
  {
   "cell_type": "code",
   "execution_count": 3,
   "id": "c76c7e0a-f0a0-458a-abc8-dc5996fcfae6",
   "metadata": {},
   "outputs": [],
   "source": [
    "import tmdbsimple as tmdb\n",
    "tmdb.API_KEY =  login['api-key']"
   ]
  },
  {
   "cell_type": "code",
   "execution_count": 4,
   "id": "02679ef7-5fd8-4e95-83de-dc4d2ed1e13a",
   "metadata": {},
   "outputs": [
    {
     "data": {
      "application/vnd.jupyter.widget-view+json": {
       "model_id": "11b5d0d5753043f790a3361e64f5b37b",
       "version_major": 2,
       "version_minor": 0
      },
      "text/plain": [
       "YEARS:   0%|          | 0/2 [00:00<?, ?it/s]"
      ]
     },
     "metadata": {},
     "output_type": "display_data"
    }
   ],
   "source": [
    "YEARS_TO_GET = [2001,2002]\n",
    "\n",
    "for YEAR in tqdm_notebook(YEARS_TO_GET, desc='YEARS', position=0):\n",
    "    json_filename = f'results_in_progress_{YEARS_TO_GET}.json'\n",
    "\n",
    "    results = {\"YEARS_TO_GET\": \"year\", \"data\": \"your_data_here\"}\n",
    "    with open(json_filename, 'w') as json_file:\n",
    "        json.dump(results, json_file)"
   ]
  },
  {
   "cell_type": "code",
   "execution_count": 5,
   "id": "b5635e0d-67b1-46ef-8213-6db6ba13dcf2",
   "metadata": {},
   "outputs": [
    {
     "name": "stdout",
     "output_type": "stream",
     "text": [
      "The Avengers Movie Info:\n",
      "None\n",
      "\n",
      "The Notebook Movie Info:\n",
      "None\n"
     ]
    }
   ],
   "source": [
    "import requests\n",
    "\n",
    "def imdb_to_tmdb(imdb_id):\n",
    "    mapping_url = f'https://api.themoviedb.org/3/find/{imdb_id}?api_key=YOUR_API_KEY&external_source=imdb_id'\n",
    "    response = requests.get(mapping_url)\n",
    "    data = response.json()\n",
    "\n",
    "    tmdb_id = data.get('movie_results', [{}])[0].get('id')\n",
    "\n",
    "    return tmdb_id\n",
    "\n",
    "def get_movie_info(imdb_id):\n",
    "    tmdb_id = imdb_to_tmdb(imdb_id)\n",
    "    \n",
    "imdb_id_avengers = 'tt0848228'\n",
    "imdb_id_notebook = 'tt0332280'\n",
    "\n",
    "movie_info_avengers = get_movie_info(imdb_id_avengers)\n",
    "movie_info_notebook = get_movie_info(imdb_id_notebook)\n",
    "\n",
    "print(\"The Avengers Movie Info:\")\n",
    "print(movie_info_avengers)\n",
    "\n",
    "print(\"\\nThe Notebook Movie Info:\")\n",
    "print(movie_info_notebook)\n"
   ]
  },
  {
   "cell_type": "code",
   "execution_count": 6,
   "id": "a97116a5-9a81-457f-8137-aeb0611169c8",
   "metadata": {},
   "outputs": [
    {
     "data": {
      "text/plain": [
       "[]"
      ]
     },
     "execution_count": 6,
     "metadata": {},
     "output_type": "execute_result"
    }
   ],
   "source": [
    "import glob\n",
    "\n",
    "tmdb_files = sorted(glob.glob(\"Data/final_tmdb_data*.csv.gz\"))\n",
    "tmdb_files"
   ]
  },
  {
   "cell_type": "code",
   "execution_count": null,
   "id": "b3cd2163-7358-406b-a884-d83340ae25cc",
   "metadata": {},
   "outputs": [],
   "source": [
    "df = pd.concat([pd.read_csv(f) for f in tmdb_files] )\n",
    "df"
   ]
  },
  {
   "cell_type": "code",
   "execution_count": null,
   "id": "4938e0d1-457a-46a2-a7ae-9012000d5947",
   "metadata": {},
   "outputs": [],
   "source": [
    "df = pd.concat([pd.read_csv(f, lineterminator='\\n') for f in files] )"
   ]
  }
 ],
 "metadata": {
  "kernelspec": {
   "display_name": "Python (dojo-env)",
   "language": "python",
   "name": "dojo-env"
  },
  "language_info": {
   "codemirror_mode": {
    "name": "ipython",
    "version": 3
   },
   "file_extension": ".py",
   "mimetype": "text/x-python",
   "name": "python",
   "nbconvert_exporter": "python",
   "pygments_lexer": "ipython3",
   "version": "3.10.10"
  },
  "widgets": {
   "application/vnd.jupyter.widget-state+json": {
    "state": {
     "11b5d0d5753043f790a3361e64f5b37b": {
      "model_module": "@jupyter-widgets/controls",
      "model_module_version": "2.0.0",
      "model_name": "HBoxModel",
      "state": {
       "children": [
        "IPY_MODEL_df634f3490c94cd488809d8b9000badd",
        "IPY_MODEL_58fb29904fb84892a613109cf3b5376c",
        "IPY_MODEL_58ffb1e28bfa40aea47da4b03688850c"
       ],
       "layout": "IPY_MODEL_a506be9489ff485bb51d267db403da49"
      }
     },
     "33652b57ff474d2e9427709364d729b3": {
      "model_module": "@jupyter-widgets/controls",
      "model_module_version": "2.0.0",
      "model_name": "HTMLStyleModel",
      "state": {
       "description_width": "",
       "font_size": null,
       "text_color": null
      }
     },
     "52fc83117f404bce8224fc20cdef48c1": {
      "model_module": "@jupyter-widgets/controls",
      "model_module_version": "2.0.0",
      "model_name": "ProgressStyleModel",
      "state": {
       "description_width": ""
      }
     },
     "58fb29904fb84892a613109cf3b5376c": {
      "model_module": "@jupyter-widgets/controls",
      "model_module_version": "2.0.0",
      "model_name": "FloatProgressModel",
      "state": {
       "bar_style": "success",
       "layout": "IPY_MODEL_a924b7b7d9454c188c9fb19caa35d60c",
       "max": 2,
       "style": "IPY_MODEL_52fc83117f404bce8224fc20cdef48c1",
       "value": 2
      }
     },
     "58ffb1e28bfa40aea47da4b03688850c": {
      "model_module": "@jupyter-widgets/controls",
      "model_module_version": "2.0.0",
      "model_name": "HTMLModel",
      "state": {
       "layout": "IPY_MODEL_b9327c9120804bbfa8a3ff9e2e3681ad",
       "style": "IPY_MODEL_a20efdb53c464124acd463c05db61fac",
       "value": " 2/2 [00:00&lt;00:00, 210.41it/s]"
      }
     },
     "66c632a131674cf2bed3f696455c6146": {
      "model_module": "@jupyter-widgets/base",
      "model_module_version": "2.0.0",
      "model_name": "LayoutModel",
      "state": {}
     },
     "a20efdb53c464124acd463c05db61fac": {
      "model_module": "@jupyter-widgets/controls",
      "model_module_version": "2.0.0",
      "model_name": "HTMLStyleModel",
      "state": {
       "description_width": "",
       "font_size": null,
       "text_color": null
      }
     },
     "a506be9489ff485bb51d267db403da49": {
      "model_module": "@jupyter-widgets/base",
      "model_module_version": "2.0.0",
      "model_name": "LayoutModel",
      "state": {}
     },
     "a924b7b7d9454c188c9fb19caa35d60c": {
      "model_module": "@jupyter-widgets/base",
      "model_module_version": "2.0.0",
      "model_name": "LayoutModel",
      "state": {}
     },
     "b9327c9120804bbfa8a3ff9e2e3681ad": {
      "model_module": "@jupyter-widgets/base",
      "model_module_version": "2.0.0",
      "model_name": "LayoutModel",
      "state": {}
     },
     "df634f3490c94cd488809d8b9000badd": {
      "model_module": "@jupyter-widgets/controls",
      "model_module_version": "2.0.0",
      "model_name": "HTMLModel",
      "state": {
       "layout": "IPY_MODEL_66c632a131674cf2bed3f696455c6146",
       "style": "IPY_MODEL_33652b57ff474d2e9427709364d729b3",
       "value": "YEARS: 100%"
      }
     }
    },
    "version_major": 2,
    "version_minor": 0
   }
  }
 },
 "nbformat": 4,
 "nbformat_minor": 5
}
