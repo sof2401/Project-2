{
 "cells": [
  {
   "cell_type": "code",
   "execution_count": 1,
   "id": "55eb7237-826f-40a8-bee1-d40c5fd942fe",
   "metadata": {},
   "outputs": [
    {
     "data": {
      "text/plain": [
       "['.DS_Store',\n",
       " 'title.basics.tsv.gz',\n",
       " 'tmdb_api_results_2001.json',\n",
       " 'final_tmdb_data_2002.csv.gz',\n",
       " 'title.ratings.tsv.gz',\n",
       " 'tmdb_api_results_2002.json',\n",
       " 'tmdb_api_results_[2001, 2002].json',\n",
       " 'title-akas-us-only.csv',\n",
       " '.ipynb_checkpoints']"
      ]
     },
     "execution_count": 1,
     "metadata": {},
     "output_type": "execute_result"
    }
   ],
   "source": [
    "import os, time, json\n",
    "import tmdbsimple as tmdb \n",
    "import pandas as pd\n",
    "from tqdm.notebook import tqdm_notebook\n",
    "\n",
    "FOLDER = \"Data/\"\n",
    "os.makedirs(FOLDER, exist_ok=True)\n",
    "os.listdir(FOLDER)"
   ]
  },
  {
   "cell_type": "code",
   "execution_count": 2,
   "id": "8fae1ce5-8e7d-46ff-a7a0-b578d4e7eea5",
   "metadata": {},
   "outputs": [],
   "source": [
    "def write_json(new_data, filename): \n",
    "    \"\"\"Appends a list of records (new_data) to a json file (filename). \n",
    "    Adapted from: https://www.geeksforgeeks.org/append-to-json-file-using-python/\"\"\"  \n",
    "    \n",
    "    with open(filename,'r+') as file:\n",
    "        # First we load existing data into a dict.\n",
    "        file_data = json.load(file)\n",
    "        ## Choose extend or append\n",
    "        if (type(new_data) == list) & (type(file_data) == list):\n",
    "            file_data.extend(new_data)\n",
    "        else:\n",
    "             file_data.append(new_data)\n",
    "        # Sets file's current position at offset.\n",
    "        file.seek(0)\n",
    "        # convert back to json.\n",
    "        json.dump(file_data, file)"
   ]
  },
  {
   "cell_type": "code",
   "execution_count": 3,
   "id": "b5635e0d-67b1-46ef-8213-6db6ba13dcf2",
   "metadata": {},
   "outputs": [
    {
     "name": "stdout",
     "output_type": "stream",
     "text": [
      "The Avengers Movie Info:\n",
      "None\n",
      "\n",
      "The Notebook Movie Info:\n",
      "None\n"
     ]
    }
   ],
   "source": [
    "import requests\n",
    "\n",
    "def imdb_to_tmdb(imdb_id):\n",
    "    mapping_url = f'https://api.themoviedb.org/3/find/{imdb_id}?api_key=YOUR_API_KEY&external_source=imdb_id'\n",
    "    response = requests.get(mapping_url)\n",
    "    data = response.json()\n",
    "\n",
    "    tmdb_id = data.get('movie_results', [{}])[0].get('id')\n",
    "\n",
    "    return tmdb_id\n",
    "\n",
    "def get_movie_info(imdb_id):\n",
    "    tmdb_id = imdb_to_tmdb(imdb_id)\n",
    "    \n",
    "imdb_id_avengers = 'tt0848228'\n",
    "imdb_id_notebook = 'tt0332280'\n",
    "\n",
    "movie_info_avengers = get_movie_info(imdb_id_avengers)\n",
    "movie_info_notebook = get_movie_info(imdb_id_notebook)\n",
    "\n",
    "print(\"The Avengers Movie Info:\")\n",
    "print(movie_info_avengers)\n",
    "\n",
    "print(\"\\nThe Notebook Movie Info:\")\n",
    "print(movie_info_notebook)"
   ]
  },
  {
   "cell_type": "code",
   "execution_count": 4,
   "id": "01a57954-cfba-49a1-a6da-98f33c711fc7",
   "metadata": {},
   "outputs": [
    {
     "data": {
      "text/html": [
       "<div>\n",
       "<style scoped>\n",
       "    .dataframe tbody tr th:only-of-type {\n",
       "        vertical-align: middle;\n",
       "    }\n",
       "\n",
       "    .dataframe tbody tr th {\n",
       "        vertical-align: top;\n",
       "    }\n",
       "\n",
       "    .dataframe thead th {\n",
       "        text-align: right;\n",
       "    }\n",
       "</style>\n",
       "<table border=\"1\" class=\"dataframe\">\n",
       "  <thead>\n",
       "    <tr style=\"text-align: right;\">\n",
       "      <th></th>\n",
       "      <th>tconst</th>\n",
       "      <th>titleType</th>\n",
       "      <th>primaryTitle</th>\n",
       "      <th>originalTitle</th>\n",
       "      <th>isAdult</th>\n",
       "      <th>startYear</th>\n",
       "      <th>endYear</th>\n",
       "      <th>runtimeMinutes</th>\n",
       "      <th>genres</th>\n",
       "    </tr>\n",
       "  </thead>\n",
       "  <tbody>\n",
       "    <tr>\n",
       "      <th>0</th>\n",
       "      <td>tt0000001</td>\n",
       "      <td>short</td>\n",
       "      <td>Carmencita</td>\n",
       "      <td>Carmencita</td>\n",
       "      <td>0</td>\n",
       "      <td>1894</td>\n",
       "      <td>\\N</td>\n",
       "      <td>1</td>\n",
       "      <td>Documentary,Short</td>\n",
       "    </tr>\n",
       "    <tr>\n",
       "      <th>1</th>\n",
       "      <td>tt0000002</td>\n",
       "      <td>short</td>\n",
       "      <td>Le clown et ses chiens</td>\n",
       "      <td>Le clown et ses chiens</td>\n",
       "      <td>0</td>\n",
       "      <td>1892</td>\n",
       "      <td>\\N</td>\n",
       "      <td>5</td>\n",
       "      <td>Animation,Short</td>\n",
       "    </tr>\n",
       "    <tr>\n",
       "      <th>2</th>\n",
       "      <td>tt0000003</td>\n",
       "      <td>short</td>\n",
       "      <td>Pauvre Pierrot</td>\n",
       "      <td>Pauvre Pierrot</td>\n",
       "      <td>0</td>\n",
       "      <td>1892</td>\n",
       "      <td>\\N</td>\n",
       "      <td>4</td>\n",
       "      <td>Animation,Comedy,Romance</td>\n",
       "    </tr>\n",
       "    <tr>\n",
       "      <th>3</th>\n",
       "      <td>tt0000004</td>\n",
       "      <td>short</td>\n",
       "      <td>Un bon bock</td>\n",
       "      <td>Un bon bock</td>\n",
       "      <td>0</td>\n",
       "      <td>1892</td>\n",
       "      <td>\\N</td>\n",
       "      <td>12</td>\n",
       "      <td>Animation,Short</td>\n",
       "    </tr>\n",
       "    <tr>\n",
       "      <th>4</th>\n",
       "      <td>tt0000005</td>\n",
       "      <td>short</td>\n",
       "      <td>Blacksmith Scene</td>\n",
       "      <td>Blacksmith Scene</td>\n",
       "      <td>0</td>\n",
       "      <td>1893</td>\n",
       "      <td>\\N</td>\n",
       "      <td>1</td>\n",
       "      <td>Comedy,Short</td>\n",
       "    </tr>\n",
       "    <tr>\n",
       "      <th>...</th>\n",
       "      <td>...</td>\n",
       "      <td>...</td>\n",
       "      <td>...</td>\n",
       "      <td>...</td>\n",
       "      <td>...</td>\n",
       "      <td>...</td>\n",
       "      <td>...</td>\n",
       "      <td>...</td>\n",
       "      <td>...</td>\n",
       "    </tr>\n",
       "    <tr>\n",
       "      <th>10017006</th>\n",
       "      <td>tt9916848</td>\n",
       "      <td>tvEpisode</td>\n",
       "      <td>Episode #3.17</td>\n",
       "      <td>Episode #3.17</td>\n",
       "      <td>0</td>\n",
       "      <td>2009</td>\n",
       "      <td>\\N</td>\n",
       "      <td>\\N</td>\n",
       "      <td>Action,Drama,Family</td>\n",
       "    </tr>\n",
       "    <tr>\n",
       "      <th>10017007</th>\n",
       "      <td>tt9916850</td>\n",
       "      <td>tvEpisode</td>\n",
       "      <td>Episode #3.19</td>\n",
       "      <td>Episode #3.19</td>\n",
       "      <td>0</td>\n",
       "      <td>2010</td>\n",
       "      <td>\\N</td>\n",
       "      <td>\\N</td>\n",
       "      <td>Action,Drama,Family</td>\n",
       "    </tr>\n",
       "    <tr>\n",
       "      <th>10017008</th>\n",
       "      <td>tt9916852</td>\n",
       "      <td>tvEpisode</td>\n",
       "      <td>Episode #3.20</td>\n",
       "      <td>Episode #3.20</td>\n",
       "      <td>0</td>\n",
       "      <td>2010</td>\n",
       "      <td>\\N</td>\n",
       "      <td>\\N</td>\n",
       "      <td>Action,Drama,Family</td>\n",
       "    </tr>\n",
       "    <tr>\n",
       "      <th>10017009</th>\n",
       "      <td>tt9916856</td>\n",
       "      <td>short</td>\n",
       "      <td>The Wind</td>\n",
       "      <td>The Wind</td>\n",
       "      <td>0</td>\n",
       "      <td>2015</td>\n",
       "      <td>\\N</td>\n",
       "      <td>27</td>\n",
       "      <td>Short</td>\n",
       "    </tr>\n",
       "    <tr>\n",
       "      <th>10017010</th>\n",
       "      <td>tt9916880</td>\n",
       "      <td>tvEpisode</td>\n",
       "      <td>Horrid Henry Knows It All</td>\n",
       "      <td>Horrid Henry Knows It All</td>\n",
       "      <td>0</td>\n",
       "      <td>2014</td>\n",
       "      <td>\\N</td>\n",
       "      <td>10</td>\n",
       "      <td>Adventure,Animation,Comedy</td>\n",
       "    </tr>\n",
       "  </tbody>\n",
       "</table>\n",
       "<p>10017011 rows × 9 columns</p>\n",
       "</div>"
      ],
      "text/plain": [
       "             tconst  titleType               primaryTitle  \\\n",
       "0         tt0000001      short                 Carmencita   \n",
       "1         tt0000002      short     Le clown et ses chiens   \n",
       "2         tt0000003      short             Pauvre Pierrot   \n",
       "3         tt0000004      short                Un bon bock   \n",
       "4         tt0000005      short           Blacksmith Scene   \n",
       "...             ...        ...                        ...   \n",
       "10017006  tt9916848  tvEpisode              Episode #3.17   \n",
       "10017007  tt9916850  tvEpisode              Episode #3.19   \n",
       "10017008  tt9916852  tvEpisode              Episode #3.20   \n",
       "10017009  tt9916856      short                   The Wind   \n",
       "10017010  tt9916880  tvEpisode  Horrid Henry Knows It All   \n",
       "\n",
       "                      originalTitle isAdult startYear endYear runtimeMinutes  \\\n",
       "0                        Carmencita       0      1894      \\N              1   \n",
       "1            Le clown et ses chiens       0      1892      \\N              5   \n",
       "2                    Pauvre Pierrot       0      1892      \\N              4   \n",
       "3                       Un bon bock       0      1892      \\N             12   \n",
       "4                  Blacksmith Scene       0      1893      \\N              1   \n",
       "...                             ...     ...       ...     ...            ...   \n",
       "10017006              Episode #3.17       0      2009      \\N             \\N   \n",
       "10017007              Episode #3.19       0      2010      \\N             \\N   \n",
       "10017008              Episode #3.20       0      2010      \\N             \\N   \n",
       "10017009                   The Wind       0      2015      \\N             27   \n",
       "10017010  Horrid Henry Knows It All       0      2014      \\N             10   \n",
       "\n",
       "                              genres  \n",
       "0                  Documentary,Short  \n",
       "1                    Animation,Short  \n",
       "2           Animation,Comedy,Romance  \n",
       "3                    Animation,Short  \n",
       "4                       Comedy,Short  \n",
       "...                              ...  \n",
       "10017006         Action,Drama,Family  \n",
       "10017007         Action,Drama,Family  \n",
       "10017008         Action,Drama,Family  \n",
       "10017009                       Short  \n",
       "10017010  Adventure,Animation,Comedy  \n",
       "\n",
       "[10017011 rows x 9 columns]"
      ]
     },
     "execution_count": 4,
     "metadata": {},
     "output_type": "execute_result"
    }
   ],
   "source": [
    "basics = pd.read_csv(\"Data/title.basics.tsv.gz\", sep='\\t', low_memory=False)\n",
    "basics"
   ]
  },
  {
   "cell_type": "code",
   "execution_count": 5,
   "id": "0f03bac3-f462-4e9f-ac7b-b428e9dea1c3",
   "metadata": {},
   "outputs": [],
   "source": [
    "YEARS_TO_GET = [2001, 2002]"
   ]
  },
  {
   "cell_type": "code",
   "execution_count": 6,
   "id": "823434ea-5cf2-4ce1-9aa0-f7e555b016f1",
   "metadata": {},
   "outputs": [],
   "source": [
    "errors = [ ]"
   ]
  },
  {
   "cell_type": "code",
   "execution_count": 7,
   "id": "c33709a0-faac-4bca-80aa-d4b52374428d",
   "metadata": {},
   "outputs": [],
   "source": [
    "JSON_FILE = f'{FOLDER}tmdb_api_results_{YEARS_TO_GET}.json'\n",
    "file_exists = os.path.isfile(JSON_FILE)"
   ]
  },
  {
   "cell_type": "code",
   "execution_count": 8,
   "id": "927f0595-fe63-4146-919d-e6aa5d312246",
   "metadata": {},
   "outputs": [],
   "source": [
    "if not file_exists:\n",
    "    print(f\"Creating {JSON_FILE} for API results for {YEAR}.\")\n",
    "    with open(JSON_FILE,'w') as f:\n",
    "        json.dump([{'imdb_id': 0}], f)"
   ]
  },
  {
   "cell_type": "code",
   "execution_count": 9,
   "id": "00542ea6-87c3-431e-bc8d-5936d3baf506",
   "metadata": {},
   "outputs": [],
   "source": [
    "df = basics.loc[basics['startYear'].isin(YEARS_TO_GET)].copy()\n",
    "\n",
    "movie_ids = df['tconst']"
   ]
  },
  {
   "cell_type": "code",
   "execution_count": 10,
   "id": "7ad44366-9d1e-429b-92d0-3e7120ba55f3",
   "metadata": {},
   "outputs": [],
   "source": [
    "previous_df = pd.read_json(JSON_FILE)"
   ]
  },
  {
   "cell_type": "code",
   "execution_count": 11,
   "id": "81bd9c7b-d92e-402e-bcf8-5c3ae2630f19",
   "metadata": {},
   "outputs": [
    {
     "data": {
      "application/vnd.jupyter.widget-view+json": {
       "model_id": "517fd1d83a75489eb90eba75b4cbe60d",
       "version_major": 2,
       "version_minor": 0
      },
      "text/plain": [
       "YEARS:   0%|          | 0/2 [00:00<?, ?it/s]"
      ]
     },
     "metadata": {},
     "output_type": "display_data"
    }
   ],
   "source": [
    "YEARS_TO_GET = [2001, 2002]\n",
    "\n",
    "for YEAR in tqdm_notebook(YEARS_TO_GET, desc='YEARS', position=0):\n",
    "    JSON_FILE = f'{FOLDER}tmdb_api_results_{YEAR}.json'\n",
    "    file_exists = os.path.isfile(JSON_FILE)\n",
    "\n",
    "    if not file_exists:\n",
    "        # Print a message indicating the file is being created \n",
    "        print(f\"Creating {JSON_FILE} for API results for {YEAR}.\")\n",
    "        # Save an empty dict with just \"imdb_id\" to the new json file.\n",
    "        with open(JSON_FILE, 'w') as f:\n",
    "            json.dump([{'imdb_id': 0}], f)\n",
    "\n",
    "    # Your code to process existing_data goes here\n",
    "    with open(JSON_FILE, 'r') as json_file:\n",
    "        existing_data = json.load(json_file)"
   ]
  },
  {
   "cell_type": "code",
   "execution_count": 12,
   "id": "ff8b6675-727f-4c6e-be92-66f33aedff5e",
   "metadata": {},
   "outputs": [],
   "source": [
    "try:\n",
    "    # Retrieve then data for the movie id\n",
    "    temp = get_movie_with_rating(movie_ids)  \n",
    "    # Append/extend results to existing file using a pre-made function\n",
    "    write_json(temp,JSON_FILE)\n",
    "    # Short 20 ms sleep to prevent overwhelming server\n",
    "    time.sleep(0.02)\n",
    "    \n",
    "except Exception as e:\n",
    "    errors.append([movie_ids, e])"
   ]
  },
  {
   "cell_type": "code",
   "execution_count": 13,
   "id": "1fd66961-2d5a-432c-ac03-9680abb96b67",
   "metadata": {},
   "outputs": [
    {
     "name": "stdout",
     "output_type": "stream",
     "text": [
      "- Total errors: 1\n"
     ]
    }
   ],
   "source": [
    "print(f\"- Total errors: {len(errors)}\")"
   ]
  },
  {
   "cell_type": "code",
   "execution_count": null,
   "id": "a97116a5-9a81-457f-8137-aeb0611169c8",
   "metadata": {},
   "outputs": [],
   "source": [
    "import glob\n",
    "\n",
    "tmdb_files = sorted(glob.glob(\"Data/final_tmdb_data*.csv.gz\"))\n",
    "tmdb_files"
   ]
  },
  {
   "cell_type": "code",
   "execution_count": null,
   "id": "b3cd2163-7358-406b-a884-d83340ae25cc",
   "metadata": {},
   "outputs": [],
   "source": [
    "df = pd.concat([pd.read_csv(f, lineterminator='\\n') for f in files] )"
   ]
  }
 ],
 "metadata": {
  "kernelspec": {
   "display_name": "Python (dojo-env)",
   "language": "python",
   "name": "dojo-env"
  },
  "language_info": {
   "codemirror_mode": {
    "name": "ipython",
    "version": 3
   },
   "file_extension": ".py",
   "mimetype": "text/x-python",
   "name": "python",
   "nbconvert_exporter": "python",
   "pygments_lexer": "ipython3",
   "version": "3.10.10"
  },
  "widgets": {
   "application/vnd.jupyter.widget-state+json": {
    "state": {
     "191634281b214b12b5f832147c300bde": {
      "model_module": "@jupyter-widgets/controls",
      "model_module_version": "2.0.0",
      "model_name": "HTMLModel",
      "state": {
       "layout": "IPY_MODEL_2e6b2b69a80840ae9999167a2aa534bc",
       "style": "IPY_MODEL_5e0b5ed6622641e5bb33a7e4ffe943aa",
       "value": " 2/2 [00:00&lt;00:00, 181.06it/s]"
      }
     },
     "1cd34d94f5664d948f67469db679b8d9": {
      "model_module": "@jupyter-widgets/controls",
      "model_module_version": "2.0.0",
      "model_name": "HTMLStyleModel",
      "state": {
       "description_width": "",
       "font_size": null,
       "text_color": null
      }
     },
     "2cc6a2ff8e754dc182d2001d1e213dae": {
      "model_module": "@jupyter-widgets/controls",
      "model_module_version": "2.0.0",
      "model_name": "ProgressStyleModel",
      "state": {
       "description_width": ""
      }
     },
     "2e6b2b69a80840ae9999167a2aa534bc": {
      "model_module": "@jupyter-widgets/base",
      "model_module_version": "2.0.0",
      "model_name": "LayoutModel",
      "state": {}
     },
     "3173d01bd835417cb4adc1aa312cffc1": {
      "model_module": "@jupyter-widgets/controls",
      "model_module_version": "2.0.0",
      "model_name": "HTMLModel",
      "state": {
       "layout": "IPY_MODEL_f48d5832479c4e79bb6593219e205335",
       "style": "IPY_MODEL_fd32305720404263bfc107969f016540",
       "value": "YEARS: 100%"
      }
     },
     "4c071a5dbc364a3fb560f5f0aa68d94d": {
      "model_module": "@jupyter-widgets/controls",
      "model_module_version": "2.0.0",
      "model_name": "HTMLModel",
      "state": {
       "layout": "IPY_MODEL_9c811464eb48431baab65bd78715cf38",
       "style": "IPY_MODEL_1cd34d94f5664d948f67469db679b8d9",
       "value": " 2/2 [00:00&lt;00:00, 125.73it/s]"
      }
     },
     "5e0b5ed6622641e5bb33a7e4ffe943aa": {
      "model_module": "@jupyter-widgets/controls",
      "model_module_version": "2.0.0",
      "model_name": "HTMLStyleModel",
      "state": {
       "description_width": "",
       "font_size": null,
       "text_color": null
      }
     },
     "63475c88091645f9bb5fd2eddc6225c8": {
      "model_module": "@jupyter-widgets/controls",
      "model_module_version": "2.0.0",
      "model_name": "HBoxModel",
      "state": {
       "children": [
        "IPY_MODEL_b5965a5eba3743bc9585be9ad554c288",
        "IPY_MODEL_c93e13a6317c4e4585f84ddbe0dfb029",
        "IPY_MODEL_191634281b214b12b5f832147c300bde"
       ],
       "layout": "IPY_MODEL_96d9c368d3574730b88aefac26cce056"
      }
     },
     "72e29471def74ef0aae1341f3114a6c5": {
      "model_module": "@jupyter-widgets/base",
      "model_module_version": "2.0.0",
      "model_name": "LayoutModel",
      "state": {}
     },
     "7522b5bb44ea4c318a386c6338890b86": {
      "model_module": "@jupyter-widgets/controls",
      "model_module_version": "2.0.0",
      "model_name": "HTMLStyleModel",
      "state": {
       "description_width": "",
       "font_size": null,
       "text_color": null
      }
     },
     "7a29c8d75f1d46448ded5f3aba659d49": {
      "model_module": "@jupyter-widgets/base",
      "model_module_version": "2.0.0",
      "model_name": "LayoutModel",
      "state": {}
     },
     "8a949e5582e24d93ac0074be7ef4c82f": {
      "model_module": "@jupyter-widgets/controls",
      "model_module_version": "2.0.0",
      "model_name": "HBoxModel",
      "state": {
       "children": [
        "IPY_MODEL_3173d01bd835417cb4adc1aa312cffc1",
        "IPY_MODEL_d4532739f11546f2aa0685bbbacc9c0e",
        "IPY_MODEL_4c071a5dbc364a3fb560f5f0aa68d94d"
       ],
       "layout": "IPY_MODEL_72e29471def74ef0aae1341f3114a6c5"
      }
     },
     "96d9c368d3574730b88aefac26cce056": {
      "model_module": "@jupyter-widgets/base",
      "model_module_version": "2.0.0",
      "model_name": "LayoutModel",
      "state": {}
     },
     "9c811464eb48431baab65bd78715cf38": {
      "model_module": "@jupyter-widgets/base",
      "model_module_version": "2.0.0",
      "model_name": "LayoutModel",
      "state": {}
     },
     "b5965a5eba3743bc9585be9ad554c288": {
      "model_module": "@jupyter-widgets/controls",
      "model_module_version": "2.0.0",
      "model_name": "HTMLModel",
      "state": {
       "layout": "IPY_MODEL_7a29c8d75f1d46448ded5f3aba659d49",
       "style": "IPY_MODEL_7522b5bb44ea4c318a386c6338890b86",
       "value": "YEARS: 100%"
      }
     },
     "c93e13a6317c4e4585f84ddbe0dfb029": {
      "model_module": "@jupyter-widgets/controls",
      "model_module_version": "2.0.0",
      "model_name": "FloatProgressModel",
      "state": {
       "bar_style": "success",
       "layout": "IPY_MODEL_eb5592f97218441cb564b1109bd272dc",
       "max": 2,
       "style": "IPY_MODEL_d68070ed0afd4e31bb761e3a5c8a62b9",
       "value": 2
      }
     },
     "d4532739f11546f2aa0685bbbacc9c0e": {
      "model_module": "@jupyter-widgets/controls",
      "model_module_version": "2.0.0",
      "model_name": "FloatProgressModel",
      "state": {
       "bar_style": "success",
       "layout": "IPY_MODEL_fd133f2d6a8c4e798cdcc891730ae5b6",
       "max": 2,
       "style": "IPY_MODEL_2cc6a2ff8e754dc182d2001d1e213dae",
       "value": 2
      }
     },
     "d68070ed0afd4e31bb761e3a5c8a62b9": {
      "model_module": "@jupyter-widgets/controls",
      "model_module_version": "2.0.0",
      "model_name": "ProgressStyleModel",
      "state": {
       "description_width": ""
      }
     },
     "eb5592f97218441cb564b1109bd272dc": {
      "model_module": "@jupyter-widgets/base",
      "model_module_version": "2.0.0",
      "model_name": "LayoutModel",
      "state": {}
     },
     "f48d5832479c4e79bb6593219e205335": {
      "model_module": "@jupyter-widgets/base",
      "model_module_version": "2.0.0",
      "model_name": "LayoutModel",
      "state": {}
     },
     "fd133f2d6a8c4e798cdcc891730ae5b6": {
      "model_module": "@jupyter-widgets/base",
      "model_module_version": "2.0.0",
      "model_name": "LayoutModel",
      "state": {}
     },
     "fd32305720404263bfc107969f016540": {
      "model_module": "@jupyter-widgets/controls",
      "model_module_version": "2.0.0",
      "model_name": "HTMLStyleModel",
      "state": {
       "description_width": "",
       "font_size": null,
       "text_color": null
      }
     }
    },
    "version_major": 2,
    "version_minor": 0
   }
  }
 },
 "nbformat": 4,
 "nbformat_minor": 5
}
