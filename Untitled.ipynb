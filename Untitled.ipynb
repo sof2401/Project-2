{
 "cells": [
  {
   "cell_type": "code",
   "execution_count": 1,
   "id": "2777df75-96b1-424c-9ecd-84c1d65e9462",
   "metadata": {},
   "outputs": [],
   "source": [
    "import pandas as pd\n",
    "import numpy as np\n",
    "import matplotlib.pyplot as plt\n",
    "import seaborn as sns\n",
    "\n",
    "\n",
    "from sklearn.preprocessing import StandardScaler\n",
    "import scipy.stats as stats"
   ]
  },
  {
   "cell_type": "code",
   "execution_count": 3,
   "id": "f77cf9a1-43fa-40b8-9322-91464f3d9bac",
   "metadata": {},
   "outputs": [
    {
     "data": {
      "text/html": [
       "<div>\n",
       "<style scoped>\n",
       "    .dataframe tbody tr th:only-of-type {\n",
       "        vertical-align: middle;\n",
       "    }\n",
       "\n",
       "    .dataframe tbody tr th {\n",
       "        vertical-align: top;\n",
       "    }\n",
       "\n",
       "    .dataframe thead th {\n",
       "        text-align: right;\n",
       "    }\n",
       "</style>\n",
       "<table border=\"1\" class=\"dataframe\">\n",
       "  <thead>\n",
       "    <tr style=\"text-align: right;\">\n",
       "      <th></th>\n",
       "      <th>Gender</th>\n",
       "      <th>Height</th>\n",
       "      <th>Weight</th>\n",
       "    </tr>\n",
       "  </thead>\n",
       "  <tbody>\n",
       "    <tr>\n",
       "      <th>0</th>\n",
       "      <td>Male</td>\n",
       "      <td>73.847017</td>\n",
       "      <td>241.893563</td>\n",
       "    </tr>\n",
       "    <tr>\n",
       "      <th>1</th>\n",
       "      <td>Male</td>\n",
       "      <td>68.781904</td>\n",
       "      <td>162.310473</td>\n",
       "    </tr>\n",
       "    <tr>\n",
       "      <th>2</th>\n",
       "      <td>Male</td>\n",
       "      <td>74.110105</td>\n",
       "      <td>212.740856</td>\n",
       "    </tr>\n",
       "    <tr>\n",
       "      <th>3</th>\n",
       "      <td>Male</td>\n",
       "      <td>71.730978</td>\n",
       "      <td>220.042470</td>\n",
       "    </tr>\n",
       "    <tr>\n",
       "      <th>4</th>\n",
       "      <td>Male</td>\n",
       "      <td>69.881796</td>\n",
       "      <td>206.349801</td>\n",
       "    </tr>\n",
       "  </tbody>\n",
       "</table>\n",
       "</div>"
      ],
      "text/plain": [
       "  Gender     Height      Weight\n",
       "0   Male  73.847017  241.893563\n",
       "1   Male  68.781904  162.310473\n",
       "2   Male  74.110105  212.740856\n",
       "3   Male  71.730978  220.042470\n",
       "4   Male  69.881796  206.349801"
      ]
     },
     "execution_count": 3,
     "metadata": {},
     "output_type": "execute_result"
    }
   ],
   "source": [
    "df = pd.read_csv(\"weight-height male-female - weight-height.csv\")\n",
    "df.head()"
   ]
  },
  {
   "cell_type": "code",
   "execution_count": 4,
   "id": "e5b2f2c9-28ba-48ea-8654-101ca9df41b8",
   "metadata": {},
   "outputs": [],
   "source": [
    "males = df.loc[ df['Gender'] == 'Male'].copy()\n",
    "females = df.loc[ df['Gender'] == 'Female'].copy()"
   ]
  },
  {
   "cell_type": "code",
   "execution_count": 5,
   "id": "585807e9-5f5f-4c4f-aa80-1612e3aa0661",
   "metadata": {},
   "outputs": [],
   "source": [
    "data = females['Height']\n",
    "mean = np.mean(data)\n",
    "std = np.std(data)"
   ]
  },
  {
   "cell_type": "code",
   "execution_count": 7,
   "id": "2f03189d-c5f1-4048-ba5d-5e60f75d4c13",
   "metadata": {},
   "outputs": [],
   "source": [
    "#1 \n",
    "low_end = 55.0\n",
    "high_end = 56.0"
   ]
  },
  {
   "cell_type": "code",
   "execution_count": 8,
   "id": "7e76ded2-5af0-436b-bea5-8e83a4d1fba0",
   "metadata": {},
   "outputs": [
    {
     "data": {
      "text/plain": [
       "0.0015043054289559897"
      ]
     },
     "execution_count": 8,
     "metadata": {},
     "output_type": "execute_result"
    }
   ],
   "source": [
    "stats.norm.cdf(56, loc=mean,scale=std) - stats.norm.cdf(55,loc=mean, scale=std)"
   ]
  },
  {
   "cell_type": "markdown",
   "id": "5f3a2f20-7e21-4370-bb87-b94a198a677e",
   "metadata": {},
   "source": [
    "The probability that a female's height is between 55.0 and 56.0 inches is 0.0015."
   ]
  },
  {
   "cell_type": "code",
   "execution_count": 9,
   "id": "f71ff484-f3c8-4234-a4e4-b2a295cc026f",
   "metadata": {},
   "outputs": [],
   "source": [
    "#2\n",
    "low_end = np.min(data)\n",
    "high_end = 60"
   ]
  },
  {
   "cell_type": "code",
   "execution_count": 11,
   "id": "6ed1fffe-9ea6-415c-a9a7-b18e0e3cce1d",
   "metadata": {},
   "outputs": [
    {
     "data": {
      "text/plain": [
       "0.08446492725207488"
      ]
     },
     "execution_count": 11,
     "metadata": {},
     "output_type": "execute_result"
    }
   ],
   "source": [
    "prob = stats.norm.cdf(60, loc=np.mean(data), scale= np.std(data))\n",
    "prob"
   ]
  },
  {
   "cell_type": "markdown",
   "id": "a3c83b3d-44b6-45a6-b13c-bc66bca026af",
   "metadata": {},
   "source": [
    "The probability that a female's height is is less than 5 feet (60 in) is 0.084."
   ]
  },
  {
   "cell_type": "code",
   "execution_count": 13,
   "id": "578d1af3-f715-4a09-9b19-a1772d0ade8b",
   "metadata": {},
   "outputs": [],
   "source": [
    "#3\n",
    "low_end = np.mean(data)\n",
    "high_end = np.max(data)"
   ]
  },
  {
   "cell_type": "code",
   "execution_count": 14,
   "id": "e10ee17a-b25c-4294-b8c8-9f50f1b64b23",
   "metadata": {},
   "outputs": [
    {
     "data": {
      "text/plain": [
       "0.5"
      ]
     },
     "execution_count": 14,
     "metadata": {},
     "output_type": "execute_result"
    }
   ],
   "source": [
    "prob = 1 - (stats.norm.cdf(mean, loc=np.mean(data), scale= np.std(data)))\n",
    "prob"
   ]
  },
  {
   "cell_type": "markdown",
   "id": "26127401-67ac-4621-ada1-748296261023",
   "metadata": {},
   "source": [
    "The probability that a female's height is is greater than the mean is 0.5."
   ]
  }
 ],
 "metadata": {
  "kernelspec": {
   "display_name": "Python (dojo-env)",
   "language": "python",
   "name": "dojo-env"
  },
  "language_info": {
   "codemirror_mode": {
    "name": "ipython",
    "version": 3
   },
   "file_extension": ".py",
   "mimetype": "text/x-python",
   "name": "python",
   "nbconvert_exporter": "python",
   "pygments_lexer": "ipython3",
   "version": "3.10.10"
  }
 },
 "nbformat": 4,
 "nbformat_minor": 5
}
